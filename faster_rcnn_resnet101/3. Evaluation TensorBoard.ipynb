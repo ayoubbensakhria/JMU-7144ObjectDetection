{
 "cells": [
  {
   "cell_type": "markdown",
   "id": "9aa082d3-1ce9-4020-a41d-9c72aad71756",
   "metadata": {},
   "source": [
    "# 7144COMP/CW2: Bird Multiple Object Detection Using Faster R-CNN ResNet101 Network \n",
    "## PART III: Evaluation with TensorBoard\n",
    "\n",
    "This notebook walks through how our model is evaluated using TensorBoard.\n",
    "\n",
    "## 3.0. Prerequisites\n",
    "This notebook runs locally on the environment *tf-gpu*.\n",
    "- Environment Setup (see Part 0)\n",
    "- Preprocessing (see Part 1)\n",
    "- Training (see Part 2)\n"
   ]
  },
  {
   "cell_type": "markdown",
   "id": "0a13b846-f597-4ef3-a11c-a87913e96351",
   "metadata": {},
   "source": [
    "## 3.1. Import the necessary packages"
   ]
  },
  {
   "cell_type": "code",
   "execution_count": 3,
   "id": "eb3cd42c-70f0-4302-8fc2-5d11fed5b21f",
   "metadata": {},
   "outputs": [],
   "source": [
    "import os"
   ]
  },
  {
   "cell_type": "code",
   "execution_count": 4,
   "id": "37d3796a-cc91-4ebe-913b-df561cd6d2ad",
   "metadata": {},
   "outputs": [],
   "source": [
    "# Current directory\n",
    "current_dir = os.getcwd()\n",
    "# Model training directory and config pipeline\n",
    "model_dir = os.path.join(current_dir, 'training')\n",
    "pipeline_config_path = 'fasterrcnn_config.config'"
   ]
  },
  {
   "cell_type": "markdown",
   "id": "c63b3465-4546-404c-9190-0f751ba09806",
   "metadata": {},
   "source": [
    "## 3.2. TensorBoard \n",
    "### 3.2.1. Monitor region proposal losses in real-time\n",
    "Here logdir points to the train directory, by launching the next cell, different loss graphs for region proposal network will be imported by TensorBoard and updated each step.\n",
    "\n",
    "The losses for the Region Proposal Network:\n",
    "\n",
    "- ```Loss/RPNLoss/localization_loss```: Localization Loss or the Loss of the Bounding Box regressor for the RPN\n",
    "\n",
    "- ```Loss/RPNLoss/objectness_loss```: Loss of the Classifier that classifies if a bounding box is an object of interest or background\n",
    "\n",
    "The losses for the Final Classifier:\n",
    "\n",
    "- ```Loss/BoxClassifierLoss/classification_loss```: Loss for the classification of detected objects into various classes: Cat, Dog, Airplane etc\n",
    "\n",
    "- ```BoxClassifierLoss/localization_loss```: Localization Loss or the Loss of the Bounding Box regressor\n",
    "\n"
   ]
  },
  {
   "cell_type": "code",
   "execution_count": 6,
   "id": "bbae6254-c51b-4c1d-89e8-2bfd56be540c",
   "metadata": {
    "scrolled": true,
    "tags": []
   },
   "outputs": [
    {
     "name": "stdout",
     "output_type": "stream",
     "text": [
      "2022-12-23 00:52:43.287233: I tensorflow/core/platform/cpu_feature_guard.cc:193] This TensorFlow binary is optimized with oneAPI Deep Neural Network Library (oneDNN) to use the following CPU instructions in performance-critical operations:  AVX2 FMA\n",
      "To enable them in other operations, rebuild TensorFlow with the appropriate compiler flags.\n",
      "2022-12-23 00:52:43.934477: W tensorflow/compiler/xla/stream_executor/platform/default/dso_loader.cc:64] Could not load dynamic library 'libnvinfer.so.7'; dlerror: libnvinfer.so.7: cannot open shared object file: No such file or directory; LD_LIBRARY_PATH: /usr/local/cuda-11.2/lib64\n",
      "2022-12-23 00:52:43.934530: W tensorflow/compiler/xla/stream_executor/platform/default/dso_loader.cc:64] Could not load dynamic library 'libnvinfer_plugin.so.7'; dlerror: libnvinfer_plugin.so.7: cannot open shared object file: No such file or directory; LD_LIBRARY_PATH: /usr/local/cuda-11.2/lib64\n",
      "2022-12-23 00:52:43.934540: W tensorflow/compiler/tf2tensorrt/utils/py_utils.cc:38] TF-TRT Warning: Cannot dlopen some TensorRT libraries. If you would like to use Nvidia GPU with TensorRT, please make sure the missing libraries mentioned above are installed properly.\n",
      "2022-12-23 00:52:44.720641: E tensorflow/compiler/xla/stream_executor/cuda/cuda_driver.cc:267] failed call to cuInit: CUDA_ERROR_COMPAT_NOT_SUPPORTED_ON_DEVICE: forward compatibility was attempted on non supported HW\n",
      "2022-12-23 00:52:44.720671: I tensorflow/compiler/xla/stream_executor/cuda/cuda_diagnostics.cc:169] retrieving CUDA diagnostic information for host: CMPR01\n",
      "2022-12-23 00:52:44.720679: I tensorflow/compiler/xla/stream_executor/cuda/cuda_diagnostics.cc:176] hostname: CMPR01\n",
      "2022-12-23 00:52:44.720752: I tensorflow/compiler/xla/stream_executor/cuda/cuda_diagnostics.cc:200] libcuda reported version is: 470.161.3\n",
      "2022-12-23 00:52:44.720778: I tensorflow/compiler/xla/stream_executor/cuda/cuda_diagnostics.cc:204] kernel reported version is: 460.91.3\n",
      "2022-12-23 00:52:44.720786: E tensorflow/compiler/xla/stream_executor/cuda/cuda_diagnostics.cc:313] kernel version 460.91.3 does not match DSO version 470.161.3 -- cannot find working devices in this configuration\n",
      "\n",
      "NOTE: Using experimental fast data loading logic. To disable, pass\n",
      "    \"--load_fast=false\" and report issues on GitHub. More details:\n",
      "    https://github.com/tensorflow/tensorboard/issues/4784\n",
      "\n",
      "Serving TensorBoard on localhost; to expose to the network, use a proxy or pass --bind_all\n",
      "TensorBoard 2.11.0 at http://localhost:6006/ (Press CTRL+C to quit)\n",
      "^C\n"
     ]
    }
   ],
   "source": [
    "!tensorboard --logdir $current_dir'/training/train'"
   ]
  },
  {
   "cell_type": "markdown",
   "id": "a8126308-daa1-415b-b44f-c82ecccba07c",
   "metadata": {},
   "source": [
    "### 3.2.2. Visualise performance metrics\n",
    "**DetectionBoxes_Precision:**\n",
    "\n",
    "- 'DetectionBoxes_Precision/mAP': mean average precision over classes averaged over IoU thresholds ranging from .5 to .95 with .05 increments.\n",
    "- 'DetectionBoxes_Precision/mAP@.50IOU': mean average precision at 50% IoU\n",
    "- 'DetectionBoxes_Precision/mAP@.75IOU': mean average precision at 75% IOU\n",
    "- 'DetectionBoxes_Precision/mAP (small)': mean average precision for small objects (area < 32^2 pixels).\n",
    "- 'DetectionBoxes_Precision/mAP (medium)': mean average precision for medium sized objects (32^2 pixels < area < 96^2 pixels).\n",
    "- 'DetectionBoxes_Precision/mAP (large)': mean average precision for large objects (96^2 pixels < area < 10000^2 pixels).\n",
    "\n",
    "**DetectionBoxes_Recall**\n",
    "\n",
    "- 'DetectionBoxes_Recall/AR@1': average recall with 1 detection.\n",
    "- 'DetectionBoxes_Recall/AR@10': average recall with 10 detections.\n",
    "- 'DetectionBoxes_Recall/AR@100': average recall with 100 detections.\n",
    "- 'DetectionBoxes_Recall/AR@100 (small)': average recall for small objects with 100.\n",
    "- 'DetectionBoxes_Recall/AR@100 (medium)': average recall for medium objects with 100.\n",
    "- 'DetectionBoxes_Recall/AR@100 (large)': average recall for large objects with 100 detections."
   ]
  },
  {
   "cell_type": "code",
   "execution_count": null,
   "id": "28878ac9-8a58-4110-8cdd-9db1b2bb6b4c",
   "metadata": {
    "scrolled": true,
    "tags": []
   },
   "outputs": [],
   "source": [
    "# Execute evaluation script\n",
    "# This will create an **eval** folder inside the training folder\n",
    "!python $current_dir/models/research/object_detection/model_main_tf2.py \\\n",
    "    --pipeline_config_path=$pipeline_config_path \\\n",
    "    --model_dir=$model_dir \\\n",
    "    --checkpoint_dir=$model_dir \\\n",
    "    --run_once=True"
   ]
  },
  {
   "cell_type": "code",
   "execution_count": null,
   "id": "bef255d4-e4a0-441a-850c-a28aa7da3b10",
   "metadata": {},
   "outputs": [
    {
     "name": "stdout",
     "output_type": "stream",
     "text": [
      "2022-12-23 01:03:49.610766: I tensorflow/core/platform/cpu_feature_guard.cc:193] This TensorFlow binary is optimized with oneAPI Deep Neural Network Library (oneDNN) to use the following CPU instructions in performance-critical operations:  AVX2 FMA\n",
      "To enable them in other operations, rebuild TensorFlow with the appropriate compiler flags.\n",
      "2022-12-23 01:03:50.255222: W tensorflow/compiler/xla/stream_executor/platform/default/dso_loader.cc:64] Could not load dynamic library 'libnvinfer.so.7'; dlerror: libnvinfer.so.7: cannot open shared object file: No such file or directory; LD_LIBRARY_PATH: /usr/local/cuda-11.2/lib64\n",
      "2022-12-23 01:03:50.255271: W tensorflow/compiler/xla/stream_executor/platform/default/dso_loader.cc:64] Could not load dynamic library 'libnvinfer_plugin.so.7'; dlerror: libnvinfer_plugin.so.7: cannot open shared object file: No such file or directory; LD_LIBRARY_PATH: /usr/local/cuda-11.2/lib64\n",
      "2022-12-23 01:03:50.255279: W tensorflow/compiler/tf2tensorrt/utils/py_utils.cc:38] TF-TRT Warning: Cannot dlopen some TensorRT libraries. If you would like to use Nvidia GPU with TensorRT, please make sure the missing libraries mentioned above are installed properly.\n",
      "2022-12-23 01:03:51.007886: E tensorflow/compiler/xla/stream_executor/cuda/cuda_driver.cc:267] failed call to cuInit: CUDA_ERROR_COMPAT_NOT_SUPPORTED_ON_DEVICE: forward compatibility was attempted on non supported HW\n",
      "2022-12-23 01:03:51.007909: I tensorflow/compiler/xla/stream_executor/cuda/cuda_diagnostics.cc:169] retrieving CUDA diagnostic information for host: CMPR01\n",
      "2022-12-23 01:03:51.007916: I tensorflow/compiler/xla/stream_executor/cuda/cuda_diagnostics.cc:176] hostname: CMPR01\n",
      "2022-12-23 01:03:51.007962: I tensorflow/compiler/xla/stream_executor/cuda/cuda_diagnostics.cc:200] libcuda reported version is: 470.161.3\n",
      "2022-12-23 01:03:51.007981: I tensorflow/compiler/xla/stream_executor/cuda/cuda_diagnostics.cc:204] kernel reported version is: 460.91.3\n",
      "2022-12-23 01:03:51.007987: E tensorflow/compiler/xla/stream_executor/cuda/cuda_diagnostics.cc:313] kernel version 460.91.3 does not match DSO version 470.161.3 -- cannot find working devices in this configuration\n",
      "\n",
      "NOTE: Using experimental fast data loading logic. To disable, pass\n",
      "    \"--load_fast=false\" and report issues on GitHub. More details:\n",
      "    https://github.com/tensorflow/tensorboard/issues/4784\n",
      "\n",
      "Serving TensorBoard on localhost; to expose to the network, use a proxy or pass --bind_all\n",
      "TensorBoard 2.11.0 at http://localhost:6006/ (Press CTRL+C to quit)\n"
     ]
    }
   ],
   "source": [
    "# Execute tensorboard and point logdir to the eval folder to load\n",
    "# DetectionBoxes Precision and Recall Metrics at STEP 28000\n",
    "!tensorboard --logdir $current_dir'/training/eval'"
   ]
  },
  {
   "cell_type": "markdown",
   "id": "b9bdc29b-be80-4080-8bf1-9abdabf2345c",
   "metadata": {},
   "source": [
    "## 3.4. Discussion"
   ]
  },
  {
   "cell_type": "markdown",
   "id": "73404608-f3d5-4843-bf84-224741185833",
   "metadata": {},
   "source": [
    "- Our mean average Precision **mAP was 0.5492** (0.87 at 0.5 level of IoU), which is above the mAP of the original Faster R-CNN ResNet101 V1 640x640 (trained on MS COCO Dataset). Our model improved its precision for object detection on our custom database thanks to transfer learning.\n",
    "- Our average Recall (sensitivity) score was 0.6083\n",
    "\n",
    "Idealy the better mAP and AR the better our model's performance."
   ]
  }
 ],
 "metadata": {
  "kernelspec": {
   "display_name": "TensorFlowGPU",
   "language": "python",
   "name": "tf_gpu"
  },
  "language_info": {
   "codemirror_mode": {
    "name": "ipython",
    "version": 3
   },
   "file_extension": ".py",
   "mimetype": "text/x-python",
   "name": "python",
   "nbconvert_exporter": "python",
   "pygments_lexer": "ipython3",
   "version": "3.8.0"
  }
 },
 "nbformat": 4,
 "nbformat_minor": 5
}
