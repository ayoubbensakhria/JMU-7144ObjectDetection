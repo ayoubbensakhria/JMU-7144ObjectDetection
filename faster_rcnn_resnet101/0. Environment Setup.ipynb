{
 "cells": [
  {
   "cell_type": "markdown",
   "id": "4a0219ea-2873-4e01-9d5e-5f29df37dbf9",
   "metadata": {},
   "source": [
    "# 7144COMP/CW2: Bird Multiple Object Detection Using Faster R-CNN \n",
    "## PART 0: Install Tensorflow-GPU (for GPUs) for use in JupyterLab using Anaconda\n"
   ]
  },
  {
   "cell_type": "markdown",
   "id": "3af1f644-ef38-41d7-ac13-7d59fe00e8e5",
   "metadata": {},
   "source": [
    "Tensorflow for GPU significantly reduces the time taken by Deep Neural Networks to complete each Epoch (compute cycle) by utilizing the CUDA cores present in the GPU for parallel processing."
   ]
  },
  {
   "cell_type": "markdown",
   "id": "bce6d291-ecfa-407d-885c-dc31152a2ed2",
   "metadata": {},
   "source": [
    "### 1. Create a Python 3.8 Virtual Environment \n",
    "Creating an environment for each Research Pipeline is a good practice. Here, before running this notebook our environment is tf_gpu.\n",
    "\n",
    "```conda create -n tf_gpu python==3.8```\n",
    "### 2. Activate the Virtual Environment \n",
    "```conda activate tf_gpu```\n",
    "### 3. Install cuDNN and CUDA Toolkit from Conda-Forge Repo Source\n",
    "```conda install cudatoolkit=11.0 cudnn=8.0 -c=conda-forge```\n",
    "### 4. Install TensorFlow for GPU\n",
    "```pip install --upgrade tensorflow-gpu==2.4.1```\n",
    "Test (should return True), or should work in the preprocessing notebook after installing Jupyter Lab:\n",
    "```\n",
    ">>> import tensorflow as tf\n",
    ">>> tf.test.is_gpu_available()\n",
    "```\n",
    "### 5. Install iPython Kernel for using in JupyterLab\n",
    "```pip install ipykernel```\n",
    "### 6. Register the iPython Kernel for selection within JupyterLab \n",
    "```python -m ipykernel install --user --name tf_gpu --display-name \"TensorFlowGPU\"```\n",
    "### 7. Install JupyterLab\n",
    "```conda install jupyterlab```\n",
    "### 8. Install keras (avoid using conda to not downgrad our TensorFlow installation)\n",
    "```pip install keras```\n",
    "### 9. Install Seaborn\n",
    "```conda install -c anaconda seaborn```\n",
    "### 10. Install Kaggle CLI\n",
    "```conda install -c conda-forge kaggle```"
   ]
  },
  {
   "cell_type": "code",
   "execution_count": null,
   "id": "dacae220-0813-41ad-8515-4df6491691f7",
   "metadata": {},
   "outputs": [],
   "source": []
  }
 ],
 "metadata": {
  "kernelspec": {
   "display_name": "TensorFlowGPU",
   "language": "python",
   "name": "tf_gpu"
  },
  "language_info": {
   "codemirror_mode": {
    "name": "ipython",
    "version": 3
   },
   "file_extension": ".py",
   "mimetype": "text/x-python",
   "name": "python",
   "nbconvert_exporter": "python",
   "pygments_lexer": "ipython3",
   "version": "3.8.0"
  }
 },
 "nbformat": 4,
 "nbformat_minor": 5
}
