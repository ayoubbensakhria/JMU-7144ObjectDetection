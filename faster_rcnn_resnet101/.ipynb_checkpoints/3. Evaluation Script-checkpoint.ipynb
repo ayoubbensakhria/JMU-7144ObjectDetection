{
 "cells": [
  {
   "cell_type": "markdown",
   "id": "9aa082d3-1ce9-4020-a41d-9c72aad71756",
   "metadata": {},
   "source": [
    "# 7144COMP/CW2: Bird Multiple Object Detection Using Faster R-CNN ResNet101 Network \n",
    "## PART III: Model evaluation and deployment\n",
    "\n",
    "### Overview\n",
    "\n",
    "In this notebook, I will: \n",
    "\n",
    "- Run the necessary evaluation scripts\n",
    "\n",
    "### Next\n",
    "In the next notebook which is an extension to the present, I will:\n",
    "- Launch TensorBoard displaying both the train and evaluation metrics for the given session. \n",
    "- Provide justification for the number of epochs used for training your object detection model\n",
    "- Freeze my trained model in correct format for model inferencing\n",
    "- Develop a Jupyter Notebook to perform inference on the frozen model using unseen test images\n",
    "- Discuss my results.\n",
    "\n",
    "### Prerequisites\n",
    "This notebook runs locally on the environment *tf-gpu*.\n",
    "- Environment Setup (see Part 0)\n",
    "- Preprocessing (see Part 1)\n",
    "- Training (see Part 2)\n"
   ]
  },
  {
   "cell_type": "markdown",
   "id": "0a13b846-f597-4ef3-a11c-a87913e96351",
   "metadata": {},
   "source": [
    "## 1. Import the necessary packages"
   ]
  },
  {
   "cell_type": "code",
   "execution_count": 2,
   "id": "eb3cd42c-70f0-4302-8fc2-5d11fed5b21f",
   "metadata": {},
   "outputs": [],
   "source": [
    "import os"
   ]
  },
  {
   "cell_type": "code",
   "execution_count": 12,
   "id": "37d3796a-cc91-4ebe-913b-df561cd6d2ad",
   "metadata": {},
   "outputs": [],
   "source": [
    "# Current directory\n",
    "current_dir = os.getcwd()\n",
    "\n",
    "# Model training directory and config pipeline\n",
    "model_dir = os.path.join(current_dir, 'training') #<- the location of our train and eval folders\n",
    "pipeline_config_path = 'fasterrcnn_config.config'"
   ]
  },
  {
   "cell_type": "code",
   "execution_count": 13,
   "id": "24b32001-da59-49c4-a555-1ebf44b5e472",
   "metadata": {},
   "outputs": [
    {
     "data": {
      "text/plain": [
       "'/home/msc1/Desktop/7144COMP/Models/faster_rcnn_resnet101'"
      ]
     },
     "execution_count": 21,
     "metadata": {},
     "output_type": "execute_result"
    }
   ],
   "source": [
    "current_dir"
   ]
  },
  {
   "cell_type": "markdown",
   "id": "a8126308-daa1-415b-b44f-c82ecccba07c",
   "metadata": {},
   "source": [
    "## 2. Run the evaluation script\n",
    "\n",
    "```model_main_tf2.py``` (same used for training to create train logs) performs evaluation when some arguments are specified. The last checkpoint is loaded from the ```checkpoint_dir``` directory, to load the last state of the model, and use the model ```pipeline_config_path``` to create en eval folder inside the training folder containing the logs of evaluation. \n",
    "\n",
    "Later on, in the next notebook, we point ```logdir``` to the eval folder to plot eval metrics on TensorBoard.\n",
    "\n",
    "**DetectionBoxes_Precision:**\n",
    "\n",
    "- ```DetectionBoxes_Precision/mAP```: mean average precision over classes averaged over IoU thresholds ranging from ```.5``` to ```.95``` with ```.05``` increments.\n",
    "- ```DetectionBoxes_Precision/mAP@.50IOU```: mean average precision at 50% IoU\n",
    "- ```DetectionBoxes_Precision/mAP@.75IOU```: mean average precision at 75% IoU\n",
    "- ```DetectionBoxes_Precision/mAP (small)```: mean average precision for small objects (area < 32^2 pixels).\n",
    "- ```DetectionBoxes_Precision/mAP (medium)```: mean average precision for medium sized objects (32^2 pixels < area < 96^2 pixels).\n",
    "- ```DetectionBoxes_Precision/mAP (large)```: mean average precision for large objects (96^2 pixels < area < 10000^2 pixels).\n",
    "\n",
    "**DetectionBoxes_Recall**\n",
    "\n",
    "- ```DetectionBoxes_Recall/AR@1```: average recall with 1 detection.\n",
    "- ```DetectionBoxes_Recall/AR@10```: average recall with 10 detections.\n",
    "- ```DetectionBoxes_Recall/AR@100```: average recall with 100 detections.\n",
    "- ```DetectionBoxes_Recall/AR@100 (small)```: average recall for small objects with 100.\n",
    "- ```DetectionBoxes_Recall/AR@100 (medium)```: average recall for medium objects with 100.\n",
    "- ```DetectionBoxes_Recall/AR@100 (large)```: average recall for large objects with 100 detections."
   ]
  },
  {
   "cell_type": "code",
   "execution_count": 17,
   "id": "28878ac9-8a58-4110-8cdd-9db1b2bb6b4c",
   "metadata": {
    "scrolled": true,
    "tags": []
   },
   "outputs": [
    {
     "name": "stdout",
     "output_type": "stream",
     "text": [
      "python: can't open file '/models/research/object_detection/model_main_tf2.py': [Errno 2] No such file or directory\n"
     ]
    }
   ],
   "source": [
    "# Execute evaluation script\n",
    "# This will create an **eval** folder inside the training folder\n",
    "!python $current_dir/models/research/object_detection/model_main_tf2.py \\\n",
    "    --pipeline_config_path=$pipeline_config_path \\\n",
    "    --checkpoint_dir=$model_dir \\\n",
    "    --eval_dir=$eval_dir \\\n",
    "    --sample_1_of_n_eval_examples=1 \\\n",
    "    --include_metrics_per_category"
   ]
  },
  {
   "cell_type": "markdown",
   "id": "95a924b8-5729-4daf-8491-0ab46e3bcde1",
   "metadata": {},
   "source": [
    "### Discussion\n",
    "The script above runs evaluation on a object detection model using ```TensorFlow 2```. The evaluation is performed using the configuration specified in the pipeline configuration file specified by ```--pipeline_config_path```. The model and checkpoints for the model are stored in the directory specified by ```--model_dir``` and ```--checkpoint_dir```, respectively.\n",
    "\n",
    "During evaluation, the script will use a single example from the evaluation dataset for each class for which there is at least one example of that class in the dataset. This is specified by the ```--sample_1_of_n_eval_examples``` flag, which is set to 1.\n",
    "\n",
    "Evaluation will be run every 600 seconds (10 minutes) during training, as specified by the ```--eval_interval_secs``` flag. Evaluation will not be run until at least ```20000``` steps have passed, as specified by the ```--min_eval_interval``` flag.\n",
    "\n",
    "The ```--run_once``` flag is set to ```False```, which means that evaluation will be run continuously during training, rather than just once at the end."
   ]
  },
  {
   "cell_type": "markdown",
   "id": "32ebbd6e-3da3-4881-83dc-06f2cb9ddc84",
   "metadata": {},
   "source": [
    "### Next\n",
    "- Launch ```TensorBoard``` to display the train and evaluation metrics for the given session"
   ]
  }
 ],
 "metadata": {
  "kernelspec": {
   "display_name": "TensorFlowGPU",
   "language": "python",
   "name": "tf_gpu"
  },
  "language_info": {
   "codemirror_mode": {
    "name": "ipython",
    "version": 3
   },
   "file_extension": ".py",
   "mimetype": "text/x-python",
   "name": "python",
   "nbconvert_exporter": "python",
   "pygments_lexer": "ipython3",
   "version": "3.8.0"
  }
 },
 "nbformat": 4,
 "nbformat_minor": 5
}
